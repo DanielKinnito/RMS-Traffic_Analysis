{
 "cells": [
  {
   "cell_type": "code",
   "execution_count": 46,
   "metadata": {},
   "outputs": [],
   "source": [
    "import pandas as pd\n",
    "import numpy as np\n",
    "import matplotlib.pyplot as plt\n",
    "import seaborn as sns\n",
    "from sklearn.preprocessing import LabelEncoder, StandardScaler\n",
    "from sklearn.ensemble import RandomForestClassifier, GradientBoostingClassifier\n",
    "from sklearn.model_selection import train_test_split, GridSearchCV\n",
    "from sklearn.metrics import classification_report, accuracy_score\n",
    "from sklearn.feature_selection import SelectKBest, f_classif\n",
    "from sklearn.impute import SimpleImputer\n"
   ]
  },
  {
   "cell_type": "markdown",
   "metadata": {},
   "source": [
    "## Data Collection\n",
    "In this cell, we will load the accident and vehicle datasets.\n",
    "We limit the data to the first 200,000 rows for quicker processing.\n"
   ]
  },
  {
   "cell_type": "code",
   "execution_count": 47,
   "metadata": {},
   "outputs": [],
   "source": [
    "# Data Collection\n",
    "accident_data = pd.read_csv(\"Accident_Information.csv\", nrows=200000)\n"
   ]
  },
  {
   "cell_type": "markdown",
   "metadata": {},
   "source": [
    "## Data Preprocessing\n",
    "In this cell, we will clean the data by removing unnecessary columns.\n"
   ]
  },
  {
   "cell_type": "code",
   "execution_count": 48,
   "metadata": {},
   "outputs": [],
   "source": [
    "# Data Preprocessing\n",
    "# Cleaning the Data\n",
    "# Remove unnecessary columns\n",
    "columns_to_drop = [\n",
    "    \"Accident_Index\",\n",
    "    \"Longitude\",\n",
    "    \"Latitude\",\n",
    "    \"Location_Easting_OSGR\",\n",
    "    \"Location_Northing_OSGR\",\n",
    "    \"Date\",\n",
    "    \"Time\",\n",
    "]\n",
    "accident_data_cleaned = accident_data.drop(columns=columns_to_drop)\n"
   ]
  },
  {
   "cell_type": "markdown",
   "metadata": {},
   "source": [
    "## Handling Missing Values\n",
    "In this cell, we will handle missing values for both numeric and categorical columns.\n"
   ]
  },
  {
   "cell_type": "code",
   "execution_count": 49,
   "metadata": {},
   "outputs": [],
   "source": [
    "# Separate columns into numeric and categorical\n",
    "numeric_columns = accident_data_cleaned.select_dtypes(include=[np.number]).columns\n",
    "categorical_columns = accident_data_cleaned.select_dtypes(exclude=[np.number]).columns\n"
   ]
  },
  {
   "cell_type": "code",
   "execution_count": 50,
   "metadata": {},
   "outputs": [],
   "source": [
    "# Handle missing values for numeric columns (using median)\n",
    "imputer_numeric = SimpleImputer(strategy='median')\n",
    "accident_data_cleaned[numeric_columns] = imputer_numeric.fit_transform(accident_data_cleaned[numeric_columns])\n"
   ]
  },
  {
   "cell_type": "code",
   "execution_count": 51,
   "metadata": {},
   "outputs": [],
   "source": [
    "# Handle missing values for categorical columns (using the mode)\n",
    "imputer_categorical = SimpleImputer(strategy='most_frequent')\n",
    "accident_data_cleaned[categorical_columns] = imputer_categorical.fit_transform(accident_data_cleaned[categorical_columns])\n"
   ]
  },
  {
   "cell_type": "markdown",
   "metadata": {},
   "source": [
    "## Feature Engineering\n",
    "In this cell, we will encode categorical variables and standardize continuous variables.\n"
   ]
  },
  {
   "cell_type": "code",
   "execution_count": 52,
   "metadata": {},
   "outputs": [],
   "source": [
    "# Feature Engineering\n",
    "# Encoding categorical variables using LabelEncoder\n",
    "for col in categorical_columns:\n",
    "    if col in accident_data_cleaned.columns:  # Ensure column exists\n",
    "        accident_data_cleaned[col] = LabelEncoder().fit_transform(accident_data_cleaned[col])\n"
   ]
  },
  {
   "cell_type": "code",
   "execution_count": 53,
   "metadata": {},
   "outputs": [],
   "source": [
    "# Standardizing continuous variables (e.g., 'Speed_limit')\n",
    "scaler = StandardScaler()\n",
    "if \"Speed_limit\" in accident_data_cleaned.columns:\n",
    "    accident_data_cleaned[\"Speed_limit\"] = scaler.fit_transform(accident_data_cleaned[[\"Speed_limit\"]])\n"
   ]
  },
  {
   "cell_type": "markdown",
   "metadata": {},
   "source": [
    "## Exploratory Data Analysis (EDA)\n",
    "In this cell, we will visualize the distribution of 'Accident_Severity' and analyze feature correlations.\n"
   ]
  },
  {
   "cell_type": "code",
   "execution_count": null,
   "metadata": {},
   "outputs": [],
   "source": [
    "# Exploratory Data Analysis (EDA)\n",
    "# Visualizing the distribution of 'Accident_Severity'\n",
    "plt.figure(figsize=(8, 6))\n",
    "sns.countplot(data=accident_data_cleaned, x=\"Accident_Severity\")\n",
    "plt.title(\"Accident Severity Distribution\")\n",
    "plt.xlabel(\"Accident Severity\")\n",
    "plt.ylabel(\"Count\")\n",
    "plt.show()\n"
   ]
  },
  {
   "cell_type": "code",
   "execution_count": null,
   "metadata": {},
   "outputs": [],
   "source": [
    "# Correlation matrix (if needed to analyze feature correlations)\n",
    "correlation_matrix = accident_data_cleaned.corr()\n",
    "plt.figure(figsize=(12, 8))\n",
    "sns.heatmap(correlation_matrix, annot=True, cmap=\"coolwarm\")\n",
    "plt.title(\"Correlation Matrix\")\n",
    "plt.show()\n"
   ]
  },
  {
   "cell_type": "markdown",
   "metadata": {},
   "source": [
    "## Feature Selection\n",
    "In this cell, we will select the top 10 features using SelectKBest.\n"
   ]
  },
  {
   "cell_type": "code",
   "execution_count": null,
   "metadata": {},
   "outputs": [],
   "source": [
    "# Feature Selection\n",
    "# Selecting top 10 features using SelectKBest\n",
    "X = accident_data_cleaned.drop(\"Accident_Severity\", axis=1)\n",
    "y = accident_data_cleaned[\"Accident_Severity\"]\n",
    "selector = SelectKBest(f_classif, k=10)\n",
    "X_new = selector.fit_transform(X, y)\n",
    "selected_features = X.columns[selector.get_support()]\n"
   ]
  },
  {
   "cell_type": "code",
   "execution_count": null,
   "metadata": {},
   "outputs": [],
   "source": [
    "# Visualizing selected features\n",
    "plt.figure(figsize=(12, 6))\n",
    "sns.barplot(x=selected_features, y=selector.scores_[selector.get_support()])\n",
    "plt.title(\"Top 10 Selected Features\")\n",
    "plt.xlabel(\"Features\")\n",
    "plt.ylabel(\"Score\")\n",
    "plt.xticks(rotation=45)\n",
    "plt.show()\n"
   ]
  },
  {
   "cell_type": "markdown",
   "metadata": {},
   "source": [
    "## Splitting Data\n",
    "In this cell, we will split the data into training and testing sets.\n"
   ]
  },
  {
   "cell_type": "code",
   "execution_count": 58,
   "metadata": {},
   "outputs": [],
   "source": [
    "# Splitting data into training and testing sets\n",
    "X_train, X_test, y_train, y_test = train_test_split(\n",
    "    X_new, y, test_size=0.2, random_state=42\n",
    ")\n"
   ]
  },
  {
   "cell_type": "markdown",
   "metadata": {},
   "source": [
    "## Training Random Forest Model\n",
    "In this cell, we will train a Random Forest model.\n"
   ]
  },
  {
   "cell_type": "code",
   "execution_count": null,
   "metadata": {},
   "outputs": [],
   "source": [
    "# Training a Random Forest model\n",
    "rf_model = RandomForestClassifier(random_state=42)\n",
    "rf_model.fit(X_train, y_train)\n"
   ]
  },
  {
   "cell_type": "markdown",
   "metadata": {},
   "source": [
    "## Evaluating Random Forest Model\n",
    "In this cell, we will evaluate the Random Forest model using accuracy and classification report.\n"
   ]
  },
  {
   "cell_type": "code",
   "execution_count": null,
   "metadata": {},
   "outputs": [],
   "source": [
    "# Model Evaluation\n",
    "# Predictions and evaluation using accuracy and classification report\n",
    "y_pred = rf_model.predict(X_test)\n",
    "print(f\"Accuracy: {accuracy_score(y_test, y_pred)}\")\n",
    "print(\"Classification Report:\")\n",
    "print(classification_report(y_test, y_pred))\n"
   ]
  },
  {
   "cell_type": "code",
   "execution_count": null,
   "metadata": {},
   "outputs": [],
   "source": [
    "# Visualizing feature importance from Random Forest\n",
    "plt.figure(figsize=(12, 6))\n",
    "sns.barplot(x=selected_features, y=rf_model.feature_importances_)\n",
    "plt.title(\"Feature Importance from Random Forest\")\n",
    "plt.xlabel(\"Features\")\n",
    "plt.ylabel(\"Importance\")\n",
    "plt.xticks(rotation=45)\n",
    "plt.show()\n"
   ]
  },
  {
   "cell_type": "markdown",
   "metadata": {},
   "source": [
    "## Training Gradient Boosting Model\n",
    "In this cell, we will train a Gradient Boosting model.\n"
   ]
  },
  {
   "cell_type": "code",
   "execution_count": null,
   "metadata": {},
   "outputs": [],
   "source": [
    "# Training a Gradient Boosting model\n",
    "gb_model = GradientBoostingClassifier(random_state=42)\n",
    "gb_model.fit(X_train, y_train)\n"
   ]
  },
  {
   "cell_type": "markdown",
   "metadata": {},
   "source": [
    "## Evaluating Gradient Boosting Model\n",
    "In this cell, we will evaluate the Gradient Boosting model using accuracy and classification report.\n"
   ]
  },
  {
   "cell_type": "code",
   "execution_count": null,
   "metadata": {},
   "outputs": [],
   "source": [
    "# Model Evaluation\n",
    "# Predictions and evaluation using accuracy and classification report\n",
    "y_pred_gb = gb_model.predict(X_test)\n",
    "print(f\"Accuracy: {accuracy_score(y_test, y_pred_gb)}\")\n",
    "print(\"Classification Report:\")\n",
    "print(classification_report(y_test, y_pred_gb))\n"
   ]
  },
  {
   "cell_type": "code",
   "execution_count": null,
   "metadata": {},
   "outputs": [],
   "source": [
    "# Visualizing feature importance from Gradient Boosting\n",
    "plt.figure(figsize=(12, 6))\n",
    "sns.barplot(x=selected_features, y=gb_model.feature_importances_)\n",
    "plt.title(\"Feature Importance from Gradient Boosting\")\n",
    "plt.xlabel(\"Features\")\n",
    "plt.ylabel(\"Importance\")\n",
    "plt.xticks(rotation=45)\n",
    "plt.show()\n"
   ]
  },
  {
   "cell_type": "markdown",
   "metadata": {},
   "source": [
    "## Hyperparameter Tuning\n",
    "In this cell, we will perform hyperparameter tuning for the Gradient Boosting model using GridSearchCV.\n"
   ]
  },
  {
   "cell_type": "code",
   "execution_count": null,
   "metadata": {},
   "outputs": [],
   "source": [
    "# Hyperparameter Tuning for Gradient Boosting model\n",
    "param_grid = {\n",
    "    'n_estimators': [100, 200],\n",
    "    'learning_rate': [0.01, 0.1],\n",
    "    'max_depth': [3, 5]\n",
    "}\n",
    "grid_search = GridSearchCV(GradientBoostingClassifier(random_state=42), param_grid, cv=3)\n",
    "grid_search.fit(X_train, y_train)\n"
   ]
  },
  {
   "cell_type": "markdown",
   "metadata": {},
   "source": [
    "## Best Model Evaluation\n",
    "In this cell, we will evaluate the best model obtained from GridSearchCV.\n"
   ]
  },
  {
   "cell_type": "code",
   "execution_count": null,
   "metadata": {},
   "outputs": [],
   "source": [
    "# Best model evaluation\n",
    "best_gb_model = grid_search.best_estimator_\n",
    "y_pred_best_gb = best_gb_model.predict(X_test)\n",
    "print(f\"Best Model Accuracy: {accuracy_score(y_test, y_pred_best_gb)}\")\n",
    "print(\"Best Model Classification Report:\")\n",
    "print(classification_report(y_test, y_pred_best_gb))\n"
   ]
  },
  {
   "cell_type": "code",
   "execution_count": null,
   "metadata": {},
   "outputs": [],
   "source": [
    "# Visualizing feature importance from the best Gradient Boosting model\n",
    "plt.figure(figsize=(12, 6))\n",
    "sns.barplot(x=selected_features, y=best_gb_model.feature_importances_)\n",
    "plt.title(\"Feature Importance from Best Gradient Boosting Model\")\n",
    "plt.xlabel(\"Features\")\n",
    "plt.ylabel(\"Importance\")\n",
    "plt.xticks(rotation=45)\n",
    "plt.show()"
   ]
  }
 ],
 "metadata": {
  "kernelspec": {
   "display_name": "Python 3",
   "language": "python",
   "name": "python3"
  },
  "language_info": {
   "codemirror_mode": {
    "name": "ipython",
    "version": 3
   },
   "file_extension": ".py",
   "mimetype": "text/x-python",
   "name": "python",
   "nbconvert_exporter": "python",
   "pygments_lexer": "ipython3",
   "version": "3.12.4"
  }
 },
 "nbformat": 4,
 "nbformat_minor": 2
}
